{
  "nbformat": 4,
  "nbformat_minor": 0,
  "metadata": {
    "colab": {
      "provenance": [],
      "authorship_tag": "ABX9TyMe+L7QUI+tGK4UCPq3Hi7q",
      "include_colab_link": true
    },
    "kernelspec": {
      "name": "python3",
      "display_name": "Python 3"
    },
    "language_info": {
      "name": "python"
    }
  },
  "cells": [
    {
      "cell_type": "markdown",
      "metadata": {
        "id": "view-in-github",
        "colab_type": "text"
      },
      "source": [
        "<a href=\"https://colab.research.google.com/github/sachinraut2500/Hands-On-Large-Language-Models/blob/main/Web_Scraper_with_Python.ipynb\" target=\"_parent\"><img src=\"https://colab.research.google.com/assets/colab-badge.svg\" alt=\"Open In Colab\"/></a>"
      ]
    },
    {
      "cell_type": "code",
      "execution_count": 1,
      "metadata": {
        "id": "dQlLCJinCAEp"
      },
      "outputs": [],
      "source": [
        "import urllib.request\n",
        "from bs4 import BeautifulSoup\n",
        "\n",
        "\n",
        "class Scraper:\n",
        "    def __init__(self, site):\n",
        "        self.site = site"
      ]
    },
    {
      "cell_type": "code",
      "source": [
        "def scrape(self):\n",
        "        r = urllib.request.urlopen(self.site)\n",
        "        html = r.read()"
      ],
      "metadata": {
        "id": "pl182H8vCLWM"
      },
      "execution_count": 5,
      "outputs": []
    },
    {
      "cell_type": "code",
      "source": [
        "def scrape(self):\n",
        "        r = urllib.request.urlopen(self.site)\n",
        "        html = r.read()\n",
        "        parser = \"html.parser\"\n",
        "        sp = BeautifulSoup(html,parser)"
      ],
      "metadata": {
        "id": "20kQVp-WCS9H"
      },
      "execution_count": 4,
      "outputs": []
    },
    {
      "cell_type": "code",
      "source": [
        "def scrape(self):\n",
        "        r = urllib.request.urlopen(self.site)\n",
        "        html = r.read()\n",
        "        parser = \"html.parser\"\n",
        "        sp = BeautifulSoup(html,parser)\n",
        "        for tag in sp.find_all(\"a\"):\n",
        "            url = tag.get(\"href\")\n",
        "            if url is None:\n",
        "                continue\n",
        "            if \"articles\" in url:\n",
        "                print(\"\\n\" + url)"
      ],
      "metadata": {
        "id": "L_sWEXnqCbQc"
      },
      "execution_count": 6,
      "outputs": []
    },
    {
      "cell_type": "code",
      "source": [
        "import urllib.request\n",
        "from bs4 import BeautifulSoup\n",
        "\n",
        "\n",
        "class Scraper:\n",
        "    def __init__(self, site):\n",
        "        self.site = site\n",
        "\n",
        "    def scrape(self):\n",
        "        r = urllib.request.urlopen(self.site)\n",
        "        html = r.read()\n",
        "        parser = \"html.parser\"\n",
        "        sp = BeautifulSoup(html,parser)\n",
        "        for tag in sp.find_all(\"a\"):\n",
        "            url = tag.get(\"href\")\n",
        "            if url is None:\n",
        "                continue\n",
        "            if \"articles\" in url:\n",
        "                print(\"\\n\" + url)\n",
        "\n",
        "news = \"https://news.google.com/\"\n",
        "Scraper(news).scrape()"
      ],
      "metadata": {
        "id": "37kkQ4njCgLy"
      },
      "execution_count": 8,
      "outputs": []
    }
  ]
}